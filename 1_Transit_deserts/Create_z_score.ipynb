{
 "cells": [
  {
   "cell_type": "code",
   "execution_count": 1,
   "metadata": {},
   "outputs": [],
   "source": [
    "import urllib.request\n",
    "import numpy as np\n",
    "import pandas as pd\n",
    "import os\n",
    "import matplotlib.pylab as plt\n",
    "try:\n",
    "    import ipywidgets as widgets\n",
    "    hasWidgets = True\n",
    "except ImportError:\n",
    "    hasWidgets = False\n",
    "import geopandas as gpd\n",
    "import glob\n",
    "import json\n",
    "import requests\n",
    "import shapely\n"
   ]
  },
  {
   "cell_type": "code",
   "execution_count": 2,
   "metadata": {},
   "outputs": [],
   "source": [
    "#https://data.cityofnewyork.us/dataset/New-York-City-Population-By-Census-Tracts/kc6e-jm93\n",
    "#https://data.cityofnewyork.us/City-Government/2010-Census-Tracts/fxpq-c8ku"
   ]
  },
  {
   "cell_type": "code",
   "execution_count": 3,
   "metadata": {},
   "outputs": [
    {
     "data": {
      "text/plain": [
       "(2166, 12)"
      ]
     },
     "execution_count": 3,
     "metadata": {},
     "output_type": "execute_result"
    }
   ],
   "source": [
    "gdf=gpd.GeoDataFrame.from_file('geo_export_63fb6c72-b31e-4794-b2b1-b6554cc9bff2.shp')\n",
    "gdf['boro_ct201']=gdf[['boro_ct201']].astype(np.int64)\n",
    "#gdf.head(1)\n",
    "gdf1 = gdf[['boro_ct201','ntaname','geometry']]\n",
    "gdf1.head(1)\n",
    "gdf.shape"
   ]
  },
  {
   "cell_type": "code",
   "execution_count": 4,
   "metadata": {
    "scrolled": true
   },
   "outputs": [
    {
     "data": {
      "text/plain": [
       "(2168, 2)"
      ]
     },
     "execution_count": 4,
     "metadata": {},
     "output_type": "execute_result"
    }
   ],
   "source": [
    "df = pd.read_csv('New_York_City_Population_By_Census_Tracts.csv')\n",
    "df['boro_ct201'] = df['DCP Borough Code']* 1000000 + df['Census Tract']\n",
    "#df.groupby('boro_ct201').count().sort_values('Year',ascending=True)\n",
    "df = df[(df['Year']==2010)]\n",
    "df1 = df[['boro_ct201','Population']]\n",
    "df1.head(1)\n",
    "df1.shape"
   ]
  },
  {
   "cell_type": "code",
   "execution_count": 5,
   "metadata": {},
   "outputs": [
    {
     "name": "stderr",
     "output_type": "stream",
     "text": [
      "/nfshome/ku373/.conda/envs/env_ver3/lib/python3.7/site-packages/pandas/core/frame.py:3781: SettingWithCopyWarning: \n",
      "A value is trying to be set on a copy of a slice from a DataFrame\n",
      "\n",
      "See the caveats in the documentation: http://pandas.pydata.org/pandas-docs/stable/indexing.html#indexing-view-versus-copy\n",
      "  return super(DataFrame, self).rename(**kwargs)\n"
     ]
    },
    {
     "data": {
      "text/plain": [
       "{'init': 'epsg:4326'}"
      ]
     },
     "execution_count": 5,
     "metadata": {},
     "output_type": "execute_result"
    }
   ],
   "source": [
    "gdf2 = gdf1.merge(df1, on = 'boro_ct201')\n",
    "gdf2['centroid'] = gdf2.geometry.centroid\n",
    "gdf2.head(1)\n",
    "gdf3 = gdf2[['boro_ct201','geometry','centroid']]\n",
    "gdf3.rename(columns={'geometry':'poly','centroid':'geometry'},inplace=True)\n",
    "gdf4 = gdf3[['boro_ct201','geometry']]\n",
    "gdf4.tail(1)\n",
    "gdf4.crs\n",
    "#type(gdf4)"
   ]
  },
  {
   "cell_type": "markdown",
   "metadata": {},
   "source": [
    "There are some duplicated stop_id, but don't care for now."
   ]
  },
  {
   "cell_type": "code",
   "execution_count": 6,
   "metadata": {},
   "outputs": [
    {
     "name": "stderr",
     "output_type": "stream",
     "text": [
      "/nfshome/ku373/.conda/envs/env_ver3/lib/python3.7/site-packages/ipykernel_launcher.py:7: SettingWithCopyWarning: \n",
      "A value is trying to be set on a copy of a slice from a DataFrame.\n",
      "Try using .loc[row_indexer,col_indexer] = value instead\n",
      "\n",
      "See the caveats in the documentation: http://pandas.pydata.org/pandas-docs/stable/indexing.html#indexing-view-versus-copy\n",
      "  import sys\n",
      "/nfshome/ku373/.conda/envs/env_ver3/lib/python3.7/site-packages/ipykernel_launcher.py:8: SettingWithCopyWarning: \n",
      "A value is trying to be set on a copy of a slice from a DataFrame.\n",
      "Try using .loc[row_indexer,col_indexer] = value instead\n",
      "\n",
      "See the caveats in the documentation: http://pandas.pydata.org/pandas-docs/stable/indexing.html#indexing-view-versus-copy\n",
      "  \n"
     ]
    },
    {
     "data": {
      "text/plain": [
       "geopandas.geodataframe.GeoDataFrame"
      ]
     },
     "execution_count": 6,
     "metadata": {},
     "output_type": "execute_result"
    }
   ],
   "source": [
    "bus = pd.read_csv('bus_stop_output_df (1).csv')\n",
    "bus1 = bus[['stop_id','stop_lat','stop_lon','stop_name']]\n",
    "#bus.groupby('stop_id').count().sort_values('lonlat')\n",
    "#bus.head(1)\n",
    "crs = {'init': 'epsg:4326'}\n",
    "\n",
    "bus1['lonlat']=list(zip(bus1.stop_lon,bus1.stop_lat))\n",
    "bus1['geometry'] = bus1[['lonlat']].applymap(lambda x:shapely.geometry.Point(x))\n",
    "bus2 =gpd.GeoDataFrame(bus1, crs=crs, geometry=bus1['geometry'])\n",
    "type(bus2)"
   ]
  },
  {
   "cell_type": "code",
   "execution_count": 10,
   "metadata": {},
   "outputs": [],
   "source": [
    "def min_distance(point, lines):\n",
    "    return lines.distance(point).min()\n",
    "\n",
    "gdf4['min_dist_bus'] = gdf4.geometry.apply(min_distance, args=(bus2,))"
   ]
  },
  {
   "cell_type": "code",
   "execution_count": 12,
   "metadata": {},
   "outputs": [
    {
     "data": {
      "text/html": [
       "<div>\n",
       "<style scoped>\n",
       "    .dataframe tbody tr th:only-of-type {\n",
       "        vertical-align: middle;\n",
       "    }\n",
       "\n",
       "    .dataframe tbody tr th {\n",
       "        vertical-align: top;\n",
       "    }\n",
       "\n",
       "    .dataframe thead th {\n",
       "        text-align: right;\n",
       "    }\n",
       "</style>\n",
       "<table border=\"1\" class=\"dataframe\">\n",
       "  <thead>\n",
       "    <tr style=\"text-align: right;\">\n",
       "      <th></th>\n",
       "      <th>boro_ct201</th>\n",
       "      <th>geometry</th>\n",
       "      <th>min_dist_to_lines</th>\n",
       "    </tr>\n",
       "  </thead>\n",
       "  <tbody>\n",
       "    <tr>\n",
       "      <th>0</th>\n",
       "      <td>5000900</td>\n",
       "      <td>POINT (-74.08285639238751 40.64220415963202)</td>\n",
       "      <td>0.002005</td>\n",
       "    </tr>\n",
       "    <tr>\n",
       "      <th>1</th>\n",
       "      <td>1009800</td>\n",
       "      <td>POINT (-73.9677747247446 40.75578800678499)</td>\n",
       "      <td>0.001369</td>\n",
       "    </tr>\n",
       "    <tr>\n",
       "      <th>2</th>\n",
       "      <td>1010000</td>\n",
       "      <td>POINT (-73.97123160585845 40.75806566605351)</td>\n",
       "      <td>0.000104</td>\n",
       "    </tr>\n",
       "    <tr>\n",
       "      <th>3</th>\n",
       "      <td>1010200</td>\n",
       "      <td>POINT (-73.97444936939443 40.75942376908788)</td>\n",
       "      <td>0.000341</td>\n",
       "    </tr>\n",
       "    <tr>\n",
       "      <th>4</th>\n",
       "      <td>1010400</td>\n",
       "      <td>POINT (-73.97767288514945 40.76077898596836)</td>\n",
       "      <td>0.001612</td>\n",
       "    </tr>\n",
       "  </tbody>\n",
       "</table>\n",
       "</div>"
      ],
      "text/plain": [
       "   boro_ct201                                      geometry  min_dist_to_lines\n",
       "0     5000900  POINT (-74.08285639238751 40.64220415963202)           0.002005\n",
       "1     1009800   POINT (-73.9677747247446 40.75578800678499)           0.001369\n",
       "2     1010000  POINT (-73.97123160585845 40.75806566605351)           0.000104\n",
       "3     1010200  POINT (-73.97444936939443 40.75942376908788)           0.000341\n",
       "4     1010400  POINT (-73.97767288514945 40.76077898596836)           0.001612"
      ]
     },
     "execution_count": 12,
     "metadata": {},
     "output_type": "execute_result"
    }
   ],
   "source": [
    "gdf4.head()"
   ]
  },
  {
   "cell_type": "markdown",
   "metadata": {},
   "source": [
    "Subway"
   ]
  },
  {
   "cell_type": "code",
   "execution_count": 15,
   "metadata": {},
   "outputs": [
    {
     "data": {
      "text/html": [
       "<div>\n",
       "<style scoped>\n",
       "    .dataframe tbody tr th:only-of-type {\n",
       "        vertical-align: middle;\n",
       "    }\n",
       "\n",
       "    .dataframe tbody tr th {\n",
       "        vertical-align: top;\n",
       "    }\n",
       "\n",
       "    .dataframe thead th {\n",
       "        text-align: right;\n",
       "    }\n",
       "</style>\n",
       "<table border=\"1\" class=\"dataframe\">\n",
       "  <thead>\n",
       "    <tr style=\"text-align: right;\">\n",
       "      <th></th>\n",
       "      <th>shape_id</th>\n",
       "      <th>shape_pt_sequence</th>\n",
       "      <th>shape_pt_lat</th>\n",
       "      <th>shape_pt_lon</th>\n",
       "    </tr>\n",
       "  </thead>\n",
       "  <tbody>\n",
       "    <tr>\n",
       "      <th>0</th>\n",
       "      <td>1..N03R</td>\n",
       "      <td>42159</td>\n",
       "      <td>40.702068</td>\n",
       "      <td>-74.013664</td>\n",
       "    </tr>\n",
       "  </tbody>\n",
       "</table>\n",
       "</div>"
      ],
      "text/plain": [
       "  shape_id  shape_pt_sequence  shape_pt_lat  shape_pt_lon\n",
       "0  1..N03R              42159     40.702068    -74.013664"
      ]
     },
     "execution_count": 15,
     "metadata": {},
     "output_type": "execute_result"
    }
   ],
   "source": [
    "sub = pd.read_csv('shapes.txt')\n",
    "sub.head(1)"
   ]
  },
  {
   "cell_type": "code",
   "execution_count": 16,
   "metadata": {},
   "outputs": [
    {
     "data": {
      "text/plain": [
       "geopandas.geodataframe.GeoDataFrame"
      ]
     },
     "execution_count": 16,
     "metadata": {},
     "output_type": "execute_result"
    }
   ],
   "source": [
    "sub['lonlat']=list(zip(sub.shape_pt_lon,sub.shape_pt_lat))\n",
    "sub['geometry'] = sub[['lonlat']].applymap(lambda x:shapely.geometry.Point(x))\n",
    "sub1 =gpd.GeoDataFrame(sub, crs=crs, geometry=sub['geometry'])\n",
    "type(sub1)"
   ]
  },
  {
   "cell_type": "code",
   "execution_count": 18,
   "metadata": {},
   "outputs": [],
   "source": [
    "def min_distance(point, lines):\n",
    "    return lines.distance(point).min()\n",
    "\n",
    "gdf4['min_dist_sub'] = gdf4.geometry.apply(min_distance, args=(sub1,))"
   ]
  },
  {
   "cell_type": "code",
   "execution_count": 23,
   "metadata": {},
   "outputs": [
    {
     "data": {
      "text/html": [
       "<div>\n",
       "<style scoped>\n",
       "    .dataframe tbody tr th:only-of-type {\n",
       "        vertical-align: middle;\n",
       "    }\n",
       "\n",
       "    .dataframe tbody tr th {\n",
       "        vertical-align: top;\n",
       "    }\n",
       "\n",
       "    .dataframe thead th {\n",
       "        text-align: right;\n",
       "    }\n",
       "</style>\n",
       "<table border=\"1\" class=\"dataframe\">\n",
       "  <thead>\n",
       "    <tr style=\"text-align: right;\">\n",
       "      <th></th>\n",
       "      <th>boro_ct201</th>\n",
       "      <th>geometry</th>\n",
       "      <th>min_dist_sub1</th>\n",
       "      <th>min_dist_sub1</th>\n",
       "    </tr>\n",
       "  </thead>\n",
       "  <tbody>\n",
       "    <tr>\n",
       "      <th>0</th>\n",
       "      <td>5000900</td>\n",
       "      <td>POINT (-74.08285639238751 40.64220415963202)</td>\n",
       "      <td>0.002005</td>\n",
       "      <td>0.05785</td>\n",
       "    </tr>\n",
       "  </tbody>\n",
       "</table>\n",
       "</div>"
      ],
      "text/plain": [
       "   boro_ct201                                      geometry  min_dist_sub1  \\\n",
       "0     5000900  POINT (-74.08285639238751 40.64220415963202)       0.002005   \n",
       "\n",
       "   min_dist_sub1  \n",
       "0        0.05785  "
      ]
     },
     "execution_count": 23,
     "metadata": {},
     "output_type": "execute_result"
    }
   ],
   "source": [
    "#gdf4.rename(columns={'min_dist_sub':'min_dist_sub1'},inplace=True)\n",
    "gdf4.head(1)"
   ]
  },
  {
   "cell_type": "code",
   "execution_count": 51,
   "metadata": {},
   "outputs": [],
   "source": [
    "gdf5 = gdf4.drop(columns=['geometry'],axis=1)"
   ]
  },
  {
   "cell_type": "code",
   "execution_count": 52,
   "metadata": {},
   "outputs": [
    {
     "data": {
      "text/plain": [
       "geopandas.geodataframe.GeoDataFrame"
      ]
     },
     "execution_count": 52,
     "metadata": {},
     "output_type": "execute_result"
    }
   ],
   "source": [
    "gdf5 = gdf2.merge(gdf5, on='boro_ct201')\n",
    "type(gdf5)"
   ]
  },
  {
   "cell_type": "code",
   "execution_count": 54,
   "metadata": {},
   "outputs": [
    {
     "data": {
      "text/html": [
       "<div>\n",
       "<style scoped>\n",
       "    .dataframe tbody tr th:only-of-type {\n",
       "        vertical-align: middle;\n",
       "    }\n",
       "\n",
       "    .dataframe tbody tr th {\n",
       "        vertical-align: top;\n",
       "    }\n",
       "\n",
       "    .dataframe thead th {\n",
       "        text-align: right;\n",
       "    }\n",
       "</style>\n",
       "<table border=\"1\" class=\"dataframe\">\n",
       "  <thead>\n",
       "    <tr style=\"text-align: right;\">\n",
       "      <th></th>\n",
       "      <th>boro_ct201</th>\n",
       "      <th>ntaname</th>\n",
       "      <th>geometry</th>\n",
       "      <th>Population</th>\n",
       "      <th>centroid</th>\n",
       "      <th>min_dist_sub1</th>\n",
       "      <th>min_dist_sub1</th>\n",
       "    </tr>\n",
       "  </thead>\n",
       "  <tbody>\n",
       "    <tr>\n",
       "      <th>0</th>\n",
       "      <td>5000900</td>\n",
       "      <td>West New Brighton-New Brighton-St. George</td>\n",
       "      <td>POLYGON ((-74.07920577013245 40.64343078374567...</td>\n",
       "      <td>2112</td>\n",
       "      <td>POINT (-74.08285639238751 40.64220415963202)</td>\n",
       "      <td>0.002005</td>\n",
       "      <td>0.057850</td>\n",
       "    </tr>\n",
       "    <tr>\n",
       "      <th>1</th>\n",
       "      <td>1009800</td>\n",
       "      <td>Turtle Bay-East Midtown</td>\n",
       "      <td>POLYGON ((-73.96432543478758 40.75638153099091...</td>\n",
       "      <td>7316</td>\n",
       "      <td>POINT (-73.9677747247446 40.75578800678499)</td>\n",
       "      <td>0.001369</td>\n",
       "      <td>0.002180</td>\n",
       "    </tr>\n",
       "    <tr>\n",
       "      <th>2</th>\n",
       "      <td>1010000</td>\n",
       "      <td>Turtle Bay-East Midtown</td>\n",
       "      <td>POLYGON ((-73.96802436915851 40.75957814005282...</td>\n",
       "      <td>1992</td>\n",
       "      <td>POINT (-73.97123160585845 40.75806566605351)</td>\n",
       "      <td>0.000104</td>\n",
       "      <td>0.001180</td>\n",
       "    </tr>\n",
       "    <tr>\n",
       "      <th>3</th>\n",
       "      <td>1010200</td>\n",
       "      <td>Midtown-Midtown South</td>\n",
       "      <td>POLYGON ((-73.97124277307127 40.76093641847906...</td>\n",
       "      <td>230</td>\n",
       "      <td>POINT (-73.97444936939443 40.75942376908788)</td>\n",
       "      <td>0.000341</td>\n",
       "      <td>0.001074</td>\n",
       "    </tr>\n",
       "    <tr>\n",
       "      <th>4</th>\n",
       "      <td>1010400</td>\n",
       "      <td>Midtown-Midtown South</td>\n",
       "      <td>POLYGON ((-73.97445730550224 40.76229308352487...</td>\n",
       "      <td>966</td>\n",
       "      <td>POINT (-73.97767288514945 40.76077898596836)</td>\n",
       "      <td>0.001612</td>\n",
       "      <td>0.000593</td>\n",
       "    </tr>\n",
       "  </tbody>\n",
       "</table>\n",
       "</div>"
      ],
      "text/plain": [
       "   boro_ct201                                    ntaname  \\\n",
       "0     5000900  West New Brighton-New Brighton-St. George   \n",
       "1     1009800                    Turtle Bay-East Midtown   \n",
       "2     1010000                    Turtle Bay-East Midtown   \n",
       "3     1010200                      Midtown-Midtown South   \n",
       "4     1010400                      Midtown-Midtown South   \n",
       "\n",
       "                                            geometry  Population  \\\n",
       "0  POLYGON ((-74.07920577013245 40.64343078374567...        2112   \n",
       "1  POLYGON ((-73.96432543478758 40.75638153099091...        7316   \n",
       "2  POLYGON ((-73.96802436915851 40.75957814005282...        1992   \n",
       "3  POLYGON ((-73.97124277307127 40.76093641847906...         230   \n",
       "4  POLYGON ((-73.97445730550224 40.76229308352487...         966   \n",
       "\n",
       "                                       centroid  min_dist_sub1  min_dist_sub1  \n",
       "0  POINT (-74.08285639238751 40.64220415963202)       0.002005       0.057850  \n",
       "1   POINT (-73.9677747247446 40.75578800678499)       0.001369       0.002180  \n",
       "2  POINT (-73.97123160585845 40.75806566605351)       0.000104       0.001180  \n",
       "3  POINT (-73.97444936939443 40.75942376908788)       0.000341       0.001074  \n",
       "4  POINT (-73.97767288514945 40.76077898596836)       0.001612       0.000593  "
      ]
     },
     "execution_count": 54,
     "metadata": {},
     "output_type": "execute_result"
    }
   ],
   "source": [
    "#gdf5.iloc[:,7]\n",
    "gdf5.head()"
   ]
  },
  {
   "cell_type": "code",
   "execution_count": 67,
   "metadata": {},
   "outputs": [],
   "source": [
    "import scipy.stats\n",
    "gdf5['z_sub'] = scipy.stats.zscore(gdf5.iloc[:,6],axis=0)\n",
    "gdf5['z_bus'] = scipy.stats.zscore(gdf5.iloc[:,5],axis=0)\n",
    "gdf5['z_pop'] = scipy.stats.zscore(gdf5.iloc[:,3],axis=0)\n",
    "gdf5['z_popdens'] = scipy.stats.zscore(gdf5.iloc[:,3]/gdf6.geometry.area,axis=0)"
   ]
  },
  {
   "cell_type": "code",
   "execution_count": 68,
   "metadata": {},
   "outputs": [],
   "source": [
    "gdf6 = gdf5.drop(columns=['centroid'],axis=1)\n",
    "gdf6.to_file('test.shp')"
   ]
  },
  {
   "cell_type": "code",
   "execution_count": 69,
   "metadata": {},
   "outputs": [
    {
     "data": {
      "text/plain": [
       "geopandas.geodataframe.GeoDataFrame"
      ]
     },
     "execution_count": 69,
     "metadata": {},
     "output_type": "execute_result"
    }
   ],
   "source": [
    "type(gdf2)"
   ]
  },
  {
   "cell_type": "code",
   "execution_count": 70,
   "metadata": {},
   "outputs": [
    {
     "data": {
      "text/plain": [
       "0       8.551879e+07\n",
       "1       3.874372e+08\n",
       "2       1.080431e+08\n",
       "3       1.247423e+07\n",
       "4       5.228944e+07\n",
       "5       6.245627e+06\n",
       "6       2.274656e+08\n",
       "7       2.206965e+08\n",
       "8       4.093449e+08\n",
       "9       5.165912e+08\n",
       "10      4.151848e+08\n",
       "11      2.783126e+08\n",
       "12      1.851430e+08\n",
       "13      1.700144e+08\n",
       "14      7.245774e+08\n",
       "15      5.200659e+08\n",
       "16      4.222087e+08\n",
       "17      4.495565e+08\n",
       "18      4.057509e+08\n",
       "19      4.759428e+08\n",
       "20      1.042953e+08\n",
       "21      2.084453e+08\n",
       "22      1.532488e+08\n",
       "23      1.743778e+08\n",
       "24      1.984472e+08\n",
       "25      1.854003e+08\n",
       "26      3.634056e+08\n",
       "27      2.953375e+08\n",
       "28      3.393756e+08\n",
       "29      2.798075e+08\n",
       "            ...     \n",
       "2136    1.999105e+08\n",
       "2137    1.770339e+08\n",
       "2138    5.047574e+07\n",
       "2139    1.119286e+08\n",
       "2140    1.503191e+08\n",
       "2141    1.849118e+08\n",
       "2142    1.289561e+07\n",
       "2143    1.106284e+08\n",
       "2144    1.078212e+07\n",
       "2145    7.746034e+07\n",
       "2146    3.630650e+07\n",
       "2147    2.834322e+08\n",
       "2148    1.107412e+08\n",
       "2149    6.096618e+06\n",
       "2150    4.430127e+08\n",
       "2151    1.887096e+07\n",
       "2152    3.543741e+07\n",
       "2153    5.949342e+07\n",
       "2154    4.698658e+07\n",
       "2155    8.167495e+07\n",
       "2156    2.924582e+08\n",
       "2157    3.002853e+07\n",
       "2158    1.160301e+08\n",
       "2159    4.274886e+07\n",
       "2160    7.391754e+07\n",
       "2161    6.012546e+07\n",
       "2162    2.241846e+08\n",
       "2163    2.623921e+08\n",
       "2164    1.902492e+08\n",
       "2165    2.805106e+08\n",
       "Length: 2166, dtype: float64"
      ]
     },
     "execution_count": 70,
     "metadata": {},
     "output_type": "execute_result"
    }
   ],
   "source": [
    "gdf6.Population / gdf6.geometry.area"
   ]
  },
  {
   "cell_type": "code",
   "execution_count": null,
   "metadata": {},
   "outputs": [],
   "source": []
  }
 ],
 "metadata": {
  "kernelspec": {
   "display_name": "env_ver3",
   "language": "python",
   "name": "env_ver3"
  },
  "language_info": {
   "codemirror_mode": {
    "name": "ipython",
    "version": 3
   },
   "file_extension": ".py",
   "mimetype": "text/x-python",
   "name": "python",
   "nbconvert_exporter": "python",
   "pygments_lexer": "ipython3",
   "version": "3.7.2"
  }
 },
 "nbformat": 4,
 "nbformat_minor": 2
}
